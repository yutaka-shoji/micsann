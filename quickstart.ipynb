{
  "nbformat": 4,
  "nbformat_minor": 0,
  "metadata": {
    "colab": {
      "name": "quickstart.ipynb",
      "provenance": [],
      "collapsed_sections": []
    },
    "kernelspec": {
      "name": "python3",
      "display_name": "Python 3"
    },
    "language_info": {
      "name": "python"
    }
  },
  "cells": [
    {
      "cell_type": "code",
      "metadata": {
        "id": "7DcFSUJGWF9Y"
      },
      "source": [
        "# micsann module setup\n",
        "!git clone https://github.com/yutaka-shoji/micsann.git\n",
        "%cd micsann\n",
        "!python setup.py install"
      ],
      "execution_count": null,
      "outputs": []
    },
    {
      "cell_type": "code",
      "metadata": {
        "id": "QhRZ1LotqTqB"
      },
      "source": [
        "import micsann\n",
        "import numpy as np\n",
        "import pandas as pd\n",
        "import matplotlib.pyplot as plt"
      ],
      "execution_count": null,
      "outputs": []
    },
    {
      "cell_type": "code",
      "metadata": {
        "id": "35lCfyuFqgTy"
      },
      "source": [
        "def main():\n",
        "    # input parameters condition\n",
        "    period = 1                                                  # year\n",
        "    t = np.logspace(np.log10(60), np.log10(3600*8760*period))   # s (from 1 min to 1 year in log space)\n",
        "    alpha = 6.0e-7                                              # m^2 s^-1\n",
        "    r_c = 0.06                                                  # m\n",
        "    r = 0.1                                                     # m\n",
        "    U = 50/(8760*3600)                                          # m s^-1\n",
        "    Fo_rc = alpha*t/(r_c**2)\n",
        "    Pe_rc = U*r_c/alpha\n",
        "    phi = np.pi\n",
        "    R = r/r_c\n",
        "    # make input dataframe\n",
        "    df = pd.DataFrame({\n",
        "        'Fo_rc': Fo_rc,\n",
        "        'Pe_rc': np.full_like(Fo_rc, Pe_rc),\n",
        "        'phi': np.full_like(Fo_rc, phi),\n",
        "        'R': np.full_like(Fo_rc, R)\n",
        "        })\n",
        "    # calc dimensionless temperature of MICS-ANN model\n",
        "    Theta = micsann.calc(df)\n",
        "    # plot\n",
        "    plot_Theta_Fo(Fo_rc, Pe_rc, phi, R, Theta)"
      ],
      "execution_count": null,
      "outputs": []
    },
    {
      "cell_type": "code",
      "metadata": {
        "id": "vwOrHdLqrZDj"
      },
      "source": [
        "# visualize\n",
        "def plot_Theta_Fo(Fo_rc, Pe_rc, phi, R, Theta):\n",
        "    plt.rcParams['font.size'] = 12\n",
        "\n",
        "    fig = plt.figure(figsize=(5,4), tight_layout=True)\n",
        "    ax = fig.add_subplot(1, 1, 1)\n",
        "    linewidth = 0.5\n",
        "\n",
        "    sct = ax.scatter(\n",
        "        Fo_rc, Theta,\n",
        "        facecolor='white',\n",
        "        edgecolor='black',\n",
        "        s=20,\n",
        "        linewidth=linewidth\n",
        "    )\n",
        "\n",
        "    ax.set_xlabel(r'$Fo_{r_\\mathrm{c}}$')\n",
        "    ax.set_ylabel(r'$\\Theta_{MICS-ANN}$')\n",
        "    ax.set_title(\n",
        "            r'$Pe_{r_\\mathrm{c}} = %.2e$, $\\varphi = %.2f$, $R = %.2f$' % (Pe_rc, phi, R),\n",
        "            fontsize=10\n",
        "            )\n",
        "    ax.set_ylim([-0.2, 5.2])\n",
        "    ax.set_xscale('log')\n",
        "\n",
        "    plt.show()"
      ],
      "execution_count": null,
      "outputs": []
    },
    {
      "cell_type": "code",
      "metadata": {
        "id": "Ovms434WrgS8"
      },
      "source": [
        "if __name__ == '__main__':\n",
        "    main()"
      ],
      "execution_count": null,
      "outputs": []
    }
  ]
}